{
 "cells": [
  {
   "cell_type": "markdown",
   "id": "0ed602dc",
   "metadata": {
    "papermill": {
     "duration": 0.007817,
     "end_time": "2022-07-12T16:09:10.327401",
     "exception": false,
     "start_time": "2022-07-12T16:09:10.319584",
     "status": "completed"
    },
    "tags": []
   },
   "source": [
    "**This notebook is an exercise in the [Data Visualization](https://www.kaggle.com/learn/data-visualization) course.  You can reference the tutorial at [this link](https://www.kaggle.com/alexisbcook/scatter-plots).**\n",
    "\n",
    "---\n"
   ]
  },
  {
   "cell_type": "markdown",
   "id": "0d03d5e9",
   "metadata": {
    "papermill": {
     "duration": 0.006301,
     "end_time": "2022-07-12T16:09:10.340893",
     "exception": false,
     "start_time": "2022-07-12T16:09:10.334592",
     "status": "completed"
    },
    "tags": []
   },
   "source": [
    "In this exercise, you will use your new knowledge to propose a solution to a real-world scenario.  To succeed, you will need to import data into Python, answer questions using the data, and generate **scatter plots** to understand patterns in the data.\n",
    "\n",
    "## Scenario\n",
    "\n",
    "You work for a major candy producer, and your goal is to write a report that your company can use to guide the design of its next product.  Soon after starting your research, you stumble across this [very interesting dataset](https://fivethirtyeight.com/features/the-ultimate-halloween-candy-power-ranking/) containing results from a fun survey to crowdsource favorite candies.\n",
    "\n",
    "## Setup\n",
    "\n",
    "Run the next cell to import and configure the Python libraries that you need to complete the exercise."
   ]
  },
  {
   "cell_type": "code",
   "execution_count": 1,
   "id": "8b56a457",
   "metadata": {
    "execution": {
     "iopub.execute_input": "2022-07-12T16:09:10.356073Z",
     "iopub.status.busy": "2022-07-12T16:09:10.355427Z",
     "iopub.status.idle": "2022-07-12T16:09:11.535425Z",
     "shell.execute_reply": "2022-07-12T16:09:11.534228Z"
    },
    "papermill": {
     "duration": 1.19058,
     "end_time": "2022-07-12T16:09:11.538066",
     "exception": false,
     "start_time": "2022-07-12T16:09:10.347486",
     "status": "completed"
    },
    "tags": []
   },
   "outputs": [
    {
     "name": "stdout",
     "output_type": "stream",
     "text": [
      "Setup Complete\n"
     ]
    }
   ],
   "source": [
    "import pandas as pd\n",
    "pd.plotting.register_matplotlib_converters()\n",
    "import matplotlib.pyplot as plt\n",
    "%matplotlib inline\n",
    "import seaborn as sns\n",
    "print(\"Setup Complete\")"
   ]
  },
  {
   "cell_type": "markdown",
   "id": "247132c2",
   "metadata": {
    "papermill": {
     "duration": 0.006763,
     "end_time": "2022-07-12T16:09:11.551781",
     "exception": false,
     "start_time": "2022-07-12T16:09:11.545018",
     "status": "completed"
    },
    "tags": []
   },
   "source": [
    "The questions below will give you feedback on your work. Run the following cell to set up our feedback system."
   ]
  },
  {
   "cell_type": "code",
   "execution_count": 2,
   "id": "acb79d64",
   "metadata": {
    "execution": {
     "iopub.execute_input": "2022-07-12T16:09:11.568323Z",
     "iopub.status.busy": "2022-07-12T16:09:11.567153Z",
     "iopub.status.idle": "2022-07-12T16:09:11.641464Z",
     "shell.execute_reply": "2022-07-12T16:09:11.640325Z"
    },
    "papermill": {
     "duration": 0.084869,
     "end_time": "2022-07-12T16:09:11.643777",
     "exception": false,
     "start_time": "2022-07-12T16:09:11.558908",
     "status": "completed"
    },
    "tags": []
   },
   "outputs": [
    {
     "name": "stdout",
     "output_type": "stream",
     "text": [
      "Setup Complete\n"
     ]
    }
   ],
   "source": [
    "# Set up code checking\n",
    "import os\n",
    "if not os.path.exists(\"../input/candy.csv\"):\n",
    "    os.symlink(\"../input/data-for-datavis/candy.csv\", \"../input/candy.csv\") \n",
    "from learntools.core import binder\n",
    "binder.bind(globals())\n",
    "from learntools.data_viz_to_coder.ex4 import *\n",
    "print(\"Setup Complete\")"
   ]
  },
  {
   "cell_type": "markdown",
   "id": "5268552c",
   "metadata": {
    "papermill": {
     "duration": 0.006677,
     "end_time": "2022-07-12T16:09:11.657556",
     "exception": false,
     "start_time": "2022-07-12T16:09:11.650879",
     "status": "completed"
    },
    "tags": []
   },
   "source": [
    "## Step 1: Load the Data\n",
    "\n",
    "Read the candy data file into `candy_data`.  Use the `\"id\"` column to label the rows."
   ]
  },
  {
   "cell_type": "code",
   "execution_count": 3,
   "id": "93829d9c",
   "metadata": {
    "execution": {
     "iopub.execute_input": "2022-07-12T16:09:11.672716Z",
     "iopub.status.busy": "2022-07-12T16:09:11.672375Z",
     "iopub.status.idle": "2022-07-12T16:09:11.688354Z",
     "shell.execute_reply": "2022-07-12T16:09:11.687406Z"
    },
    "papermill": {
     "duration": 0.026048,
     "end_time": "2022-07-12T16:09:11.690517",
     "exception": false,
     "start_time": "2022-07-12T16:09:11.664469",
     "status": "completed"
    },
    "tags": []
   },
   "outputs": [
    {
     "data": {
      "application/javascript": [
       "parent.postMessage({\"jupyterEvent\": \"custom.exercise_interaction\", \"data\": {\"outcomeType\": 1, \"valueTowardsCompletion\": 0.3333333333333333, \"interactionType\": 1, \"questionType\": 1, \"questionId\": \"1_LoadData\", \"learnToolsVersion\": \"0.3.4\", \"failureMessage\": \"\", \"exceptionClass\": \"\", \"trace\": \"\"}}, \"*\")"
      ],
      "text/plain": [
       "<IPython.core.display.Javascript object>"
      ]
     },
     "metadata": {},
     "output_type": "display_data"
    },
    {
     "data": {
      "text/markdown": [
       "<span style=\"color:#33cc33\">Correct</span>"
      ],
      "text/plain": [
       "Correct"
      ]
     },
     "metadata": {},
     "output_type": "display_data"
    }
   ],
   "source": [
    "# Path of the file to read\n",
    "candy_filepath = \"../input/candy.csv\"\n",
    "\n",
    "# Fill in the line below to read the file into a variable candy_data\n",
    "candy_data = pd.read_csv(candy_filepath,index_col=\"id\")\n",
    "\n",
    "# Run the line below with no changes to check that you've loaded the data correctly\n",
    "step_1.check()"
   ]
  },
  {
   "cell_type": "code",
   "execution_count": 4,
   "id": "e5776428",
   "metadata": {
    "execution": {
     "iopub.execute_input": "2022-07-12T16:09:11.706442Z",
     "iopub.status.busy": "2022-07-12T16:09:11.705548Z",
     "iopub.status.idle": "2022-07-12T16:09:11.709681Z",
     "shell.execute_reply": "2022-07-12T16:09:11.708744Z"
    },
    "papermill": {
     "duration": 0.013991,
     "end_time": "2022-07-12T16:09:11.711497",
     "exception": false,
     "start_time": "2022-07-12T16:09:11.697506",
     "status": "completed"
    },
    "tags": []
   },
   "outputs": [],
   "source": [
    "# Lines below will give you a hint or solution code\n",
    "#step_1.hint()\n",
    "#step_1.solution()"
   ]
  },
  {
   "cell_type": "markdown",
   "id": "796ca8ea",
   "metadata": {
    "papermill": {
     "duration": 0.006618,
     "end_time": "2022-07-12T16:09:11.725644",
     "exception": false,
     "start_time": "2022-07-12T16:09:11.719026",
     "status": "completed"
    },
    "tags": []
   },
   "source": [
    "## Step 2: Review the data\n",
    "\n",
    "Use a Python command to print the first five rows of the data."
   ]
  },
  {
   "cell_type": "code",
   "execution_count": 5,
   "id": "f58ad588",
   "metadata": {
    "execution": {
     "iopub.execute_input": "2022-07-12T16:09:11.741206Z",
     "iopub.status.busy": "2022-07-12T16:09:11.740555Z",
     "iopub.status.idle": "2022-07-12T16:09:11.759851Z",
     "shell.execute_reply": "2022-07-12T16:09:11.759098Z"
    },
    "papermill": {
     "duration": 0.029165,
     "end_time": "2022-07-12T16:09:11.761698",
     "exception": false,
     "start_time": "2022-07-12T16:09:11.732533",
     "status": "completed"
    },
    "tags": []
   },
   "outputs": [
    {
     "data": {
      "text/html": [
       "<div>\n",
       "<style scoped>\n",
       "    .dataframe tbody tr th:only-of-type {\n",
       "        vertical-align: middle;\n",
       "    }\n",
       "\n",
       "    .dataframe tbody tr th {\n",
       "        vertical-align: top;\n",
       "    }\n",
       "\n",
       "    .dataframe thead th {\n",
       "        text-align: right;\n",
       "    }\n",
       "</style>\n",
       "<table border=\"1\" class=\"dataframe\">\n",
       "  <thead>\n",
       "    <tr style=\"text-align: right;\">\n",
       "      <th></th>\n",
       "      <th>competitorname</th>\n",
       "      <th>chocolate</th>\n",
       "      <th>fruity</th>\n",
       "      <th>caramel</th>\n",
       "      <th>peanutyalmondy</th>\n",
       "      <th>nougat</th>\n",
       "      <th>crispedricewafer</th>\n",
       "      <th>hard</th>\n",
       "      <th>bar</th>\n",
       "      <th>pluribus</th>\n",
       "      <th>sugarpercent</th>\n",
       "      <th>pricepercent</th>\n",
       "      <th>winpercent</th>\n",
       "    </tr>\n",
       "    <tr>\n",
       "      <th>id</th>\n",
       "      <th></th>\n",
       "      <th></th>\n",
       "      <th></th>\n",
       "      <th></th>\n",
       "      <th></th>\n",
       "      <th></th>\n",
       "      <th></th>\n",
       "      <th></th>\n",
       "      <th></th>\n",
       "      <th></th>\n",
       "      <th></th>\n",
       "      <th></th>\n",
       "      <th></th>\n",
       "    </tr>\n",
       "  </thead>\n",
       "  <tbody>\n",
       "    <tr>\n",
       "      <th>0</th>\n",
       "      <td>100 Grand</td>\n",
       "      <td>Yes</td>\n",
       "      <td>No</td>\n",
       "      <td>Yes</td>\n",
       "      <td>No</td>\n",
       "      <td>No</td>\n",
       "      <td>Yes</td>\n",
       "      <td>No</td>\n",
       "      <td>Yes</td>\n",
       "      <td>No</td>\n",
       "      <td>0.732</td>\n",
       "      <td>0.860</td>\n",
       "      <td>66.971725</td>\n",
       "    </tr>\n",
       "    <tr>\n",
       "      <th>1</th>\n",
       "      <td>3 Musketeers</td>\n",
       "      <td>Yes</td>\n",
       "      <td>No</td>\n",
       "      <td>No</td>\n",
       "      <td>No</td>\n",
       "      <td>Yes</td>\n",
       "      <td>No</td>\n",
       "      <td>No</td>\n",
       "      <td>Yes</td>\n",
       "      <td>No</td>\n",
       "      <td>0.604</td>\n",
       "      <td>0.511</td>\n",
       "      <td>67.602936</td>\n",
       "    </tr>\n",
       "    <tr>\n",
       "      <th>2</th>\n",
       "      <td>Air Heads</td>\n",
       "      <td>No</td>\n",
       "      <td>Yes</td>\n",
       "      <td>No</td>\n",
       "      <td>No</td>\n",
       "      <td>No</td>\n",
       "      <td>No</td>\n",
       "      <td>No</td>\n",
       "      <td>No</td>\n",
       "      <td>No</td>\n",
       "      <td>0.906</td>\n",
       "      <td>0.511</td>\n",
       "      <td>52.341465</td>\n",
       "    </tr>\n",
       "    <tr>\n",
       "      <th>3</th>\n",
       "      <td>Almond Joy</td>\n",
       "      <td>Yes</td>\n",
       "      <td>No</td>\n",
       "      <td>No</td>\n",
       "      <td>Yes</td>\n",
       "      <td>No</td>\n",
       "      <td>No</td>\n",
       "      <td>No</td>\n",
       "      <td>Yes</td>\n",
       "      <td>No</td>\n",
       "      <td>0.465</td>\n",
       "      <td>0.767</td>\n",
       "      <td>50.347546</td>\n",
       "    </tr>\n",
       "    <tr>\n",
       "      <th>4</th>\n",
       "      <td>Baby Ruth</td>\n",
       "      <td>Yes</td>\n",
       "      <td>No</td>\n",
       "      <td>Yes</td>\n",
       "      <td>Yes</td>\n",
       "      <td>Yes</td>\n",
       "      <td>No</td>\n",
       "      <td>No</td>\n",
       "      <td>Yes</td>\n",
       "      <td>No</td>\n",
       "      <td>0.604</td>\n",
       "      <td>0.767</td>\n",
       "      <td>56.914547</td>\n",
       "    </tr>\n",
       "  </tbody>\n",
       "</table>\n",
       "</div>"
      ],
      "text/plain": [
       "   competitorname chocolate fruity caramel peanutyalmondy nougat  \\\n",
       "id                                                                 \n",
       "0       100 Grand       Yes     No     Yes             No     No   \n",
       "1    3 Musketeers       Yes     No      No             No    Yes   \n",
       "2       Air Heads        No    Yes      No             No     No   \n",
       "3      Almond Joy       Yes     No      No            Yes     No   \n",
       "4       Baby Ruth       Yes     No     Yes            Yes    Yes   \n",
       "\n",
       "   crispedricewafer hard  bar pluribus  sugarpercent  pricepercent  winpercent  \n",
       "id                                                                              \n",
       "0               Yes   No  Yes       No         0.732         0.860   66.971725  \n",
       "1                No   No  Yes       No         0.604         0.511   67.602936  \n",
       "2                No   No   No       No         0.906         0.511   52.341465  \n",
       "3                No   No  Yes       No         0.465         0.767   50.347546  \n",
       "4                No   No  Yes       No         0.604         0.767   56.914547  "
      ]
     },
     "execution_count": 5,
     "metadata": {},
     "output_type": "execute_result"
    }
   ],
   "source": [
    "# Print the first five rows of the data\n",
    "candy_data.head()# Your code here"
   ]
  },
  {
   "cell_type": "markdown",
   "id": "39762dc9",
   "metadata": {
    "papermill": {
     "duration": 0.006994,
     "end_time": "2022-07-12T16:09:11.775944",
     "exception": false,
     "start_time": "2022-07-12T16:09:11.768950",
     "status": "completed"
    },
    "tags": []
   },
   "source": [
    "The dataset contains 83 rows, where each corresponds to a different candy bar.  There are 13 columns:\n",
    "- `'competitorname'` contains the name of the candy bar. \n",
    "- the next **9** columns (from `'chocolate'` to `'pluribus'`) describe the candy.  For instance, rows with chocolate candies have `\"Yes\"` in the `'chocolate'` column (and candies without chocolate have `\"No\"` in the same column).\n",
    "- `'sugarpercent'` provides some indication of the amount of sugar, where higher values signify higher sugar content.\n",
    "- `'pricepercent'` shows the price per unit, relative to the other candies in the dataset.\n",
    "- `'winpercent'` is calculated from the survey results; higher values indicate that the candy was more popular with survey respondents.\n",
    "\n",
    "Use the first five rows of the data to answer the questions below."
   ]
  },
  {
   "cell_type": "code",
   "execution_count": 6,
   "id": "3a89600c",
   "metadata": {
    "execution": {
     "iopub.execute_input": "2022-07-12T16:09:11.792217Z",
     "iopub.status.busy": "2022-07-12T16:09:11.791587Z",
     "iopub.status.idle": "2022-07-12T16:09:11.798292Z",
     "shell.execute_reply": "2022-07-12T16:09:11.797532Z"
    },
    "papermill": {
     "duration": 0.016936,
     "end_time": "2022-07-12T16:09:11.800210",
     "exception": false,
     "start_time": "2022-07-12T16:09:11.783274",
     "status": "completed"
    },
    "tags": []
   },
   "outputs": [
    {
     "data": {
      "application/javascript": [
       "parent.postMessage({\"jupyterEvent\": \"custom.exercise_interaction\", \"data\": {\"outcomeType\": 1, \"valueTowardsCompletion\": 0.3333333333333333, \"interactionType\": 1, \"questionType\": 1, \"questionId\": \"2_ReviewData\", \"learnToolsVersion\": \"0.3.4\", \"failureMessage\": \"\", \"exceptionClass\": \"\", \"trace\": \"\"}}, \"*\")"
      ],
      "text/plain": [
       "<IPython.core.display.Javascript object>"
      ]
     },
     "metadata": {},
     "output_type": "display_data"
    },
    {
     "data": {
      "text/markdown": [
       "<span style=\"color:#33cc33\">Correct</span>"
      ],
      "text/plain": [
       "Correct"
      ]
     },
     "metadata": {},
     "output_type": "display_data"
    }
   ],
   "source": [
    "# Fill in the line below: Which candy was more popular with survey respondents:\n",
    "# '3 Musketeers' or 'Almond Joy'?  (Please enclose your answer in single quotes.)\n",
    "more_popular = \"3 Musketeers\"\n",
    "\n",
    "# Fill in the line below: Which candy has higher sugar content: 'Air Heads'\n",
    "# or 'Baby Ruth'? (Please enclose your answer in single quotes.)\n",
    "more_sugar = \"Air Heads\"\n",
    "\n",
    "# Check your answers\n",
    "step_2.check()"
   ]
  },
  {
   "cell_type": "code",
   "execution_count": 7,
   "id": "7886ce97",
   "metadata": {
    "execution": {
     "iopub.execute_input": "2022-07-12T16:09:11.816940Z",
     "iopub.status.busy": "2022-07-12T16:09:11.816309Z",
     "iopub.status.idle": "2022-07-12T16:09:11.819695Z",
     "shell.execute_reply": "2022-07-12T16:09:11.819028Z"
    },
    "papermill": {
     "duration": 0.013808,
     "end_time": "2022-07-12T16:09:11.821469",
     "exception": false,
     "start_time": "2022-07-12T16:09:11.807661",
     "status": "completed"
    },
    "tags": []
   },
   "outputs": [],
   "source": [
    "# Lines below will give you a hint or solution code\n",
    "#step_2.hint()\n",
    "#step_2.solution()"
   ]
  },
  {
   "cell_type": "markdown",
   "id": "f5f6e3df",
   "metadata": {
    "papermill": {
     "duration": 0.007101,
     "end_time": "2022-07-12T16:09:11.836288",
     "exception": false,
     "start_time": "2022-07-12T16:09:11.829187",
     "status": "completed"
    },
    "tags": []
   },
   "source": [
    "## Step 3: The role of sugar\n",
    "\n",
    "Do people tend to prefer candies with higher sugar content?  \n",
    "\n",
    "#### Part A\n",
    "\n",
    "Create a scatter plot that shows the relationship between `'sugarpercent'` (on the horizontal x-axis) and `'winpercent'` (on the vertical y-axis).  _Don't add a regression line just yet -- you'll do that in the next step!_"
   ]
  },
  {
   "cell_type": "code",
   "execution_count": 8,
   "id": "6acdb986",
   "metadata": {
    "execution": {
     "iopub.execute_input": "2022-07-12T16:09:11.852891Z",
     "iopub.status.busy": "2022-07-12T16:09:11.852265Z",
     "iopub.status.idle": "2022-07-12T16:09:12.090385Z",
     "shell.execute_reply": "2022-07-12T16:09:12.089225Z"
    },
    "papermill": {
     "duration": 0.249139,
     "end_time": "2022-07-12T16:09:12.092806",
     "exception": false,
     "start_time": "2022-07-12T16:09:11.843667",
     "status": "completed"
    },
    "tags": []
   },
   "outputs": [
    {
     "data": {
      "application/javascript": [
       "parent.postMessage({\"jupyterEvent\": \"custom.exercise_interaction\", \"data\": {\"outcomeType\": 1, \"valueTowardsCompletion\": 0.3333333333333333, \"interactionType\": 1, \"questionType\": 2, \"questionId\": \"3.1_PlotBlueScatter\", \"learnToolsVersion\": \"0.3.4\", \"failureMessage\": \"\", \"exceptionClass\": \"\", \"trace\": \"\"}}, \"*\")"
      ],
      "text/plain": [
       "<IPython.core.display.Javascript object>"
      ]
     },
     "metadata": {},
     "output_type": "display_data"
    },
    {
     "data": {
      "text/markdown": [
       "<span style=\"color:#33cc33\">Correct</span>"
      ],
      "text/plain": [
       "Correct"
      ]
     },
     "metadata": {},
     "output_type": "display_data"
    },
    {
     "data": {
      "image/png": "[encoded data removed]",
      "text/plain": [
       "<Figure size 432x288 with 1 Axes>"
      ]
     },
     "metadata": {
      "needs_background": "light"
     },
     "output_type": "display_data"
    }
   ],
   "source": [
    "# Scatter plot showing the relationship between 'sugarpercent' and 'winpercent'\n",
    "sns.scatterplot(x=candy_data['sugarpercent'], y=candy_data['winpercent'])# Your code here\n",
    "\n",
    "# Check your answer\n",
    "step_3.a.check()"
   ]
  },
  {
   "cell_type": "code",
   "execution_count": 9,
   "id": "e5115c15",
   "metadata": {
    "execution": {
     "iopub.execute_input": "2022-07-12T16:09:12.110530Z",
     "iopub.status.busy": "2022-07-12T16:09:12.110152Z",
     "iopub.status.idle": "2022-07-12T16:09:12.114809Z",
     "shell.execute_reply": "2022-07-12T16:09:12.113595Z"
    },
    "papermill": {
     "duration": 0.015955,
     "end_time": "2022-07-12T16:09:12.116998",
     "exception": false,
     "start_time": "2022-07-12T16:09:12.101043",
     "status": "completed"
    },
    "tags": []
   },
   "outputs": [],
   "source": [
    "# Lines below will give you a hint or solution code\n",
    "#step_3.a.hint()\n",
    "#step_3.a.solution_plot()"
   ]
  },
  {
   "cell_type": "markdown",
   "id": "aff21819",
   "metadata": {
    "papermill": {
     "duration": 0.007561,
     "end_time": "2022-07-12T16:09:12.132519",
     "exception": false,
     "start_time": "2022-07-12T16:09:12.124958",
     "status": "completed"
    },
    "tags": []
   },
   "source": [
    "#### Part B\n",
    "\n",
    "Does the scatter plot show a **strong** correlation between the two variables?  If so, are candies with more sugar relatively more or less popular with the survey respondents?"
   ]
  },
  {
   "cell_type": "code",
   "execution_count": 10,
   "id": "c8a7f053",
   "metadata": {
    "execution": {
     "iopub.execute_input": "2022-07-12T16:09:12.150692Z",
     "iopub.status.busy": "2022-07-12T16:09:12.150030Z",
     "iopub.status.idle": "2022-07-12T16:09:12.155521Z",
     "shell.execute_reply": "2022-07-12T16:09:12.154455Z"
    },
    "papermill": {
     "duration": 0.017211,
     "end_time": "2022-07-12T16:09:12.157885",
     "exception": false,
     "start_time": "2022-07-12T16:09:12.140674",
     "status": "completed"
    },
    "tags": []
   },
   "outputs": [],
   "source": [
    "#step_3.b.hint()"
   ]
  },
  {
   "cell_type": "code",
   "execution_count": 11,
   "id": "624afb37",
   "metadata": {
    "execution": {
     "iopub.execute_input": "2022-07-12T16:09:12.175884Z",
     "iopub.status.busy": "2022-07-12T16:09:12.174978Z",
     "iopub.status.idle": "2022-07-12T16:09:12.183466Z",
     "shell.execute_reply": "2022-07-12T16:09:12.182659Z"
    },
    "papermill": {
     "duration": 0.01934,
     "end_time": "2022-07-12T16:09:12.185315",
     "exception": false,
     "start_time": "2022-07-12T16:09:12.165975",
     "status": "completed"
    },
    "tags": []
   },
   "outputs": [
    {
     "data": {
      "application/javascript": [
       "parent.postMessage({\"jupyterEvent\": \"custom.exercise_interaction\", \"data\": {\"interactionType\": 3, \"questionType\": 4, \"questionId\": \"3.2_ThinkBlueScatter\", \"learnToolsVersion\": \"0.3.4\", \"valueTowardsCompletion\": 0.0, \"failureMessage\": \"\", \"exceptionClass\": \"\", \"trace\": \"\", \"outcomeType\": 4}}, \"*\")"
      ],
      "text/plain": [
       "<IPython.core.display.Javascript object>"
      ]
     },
     "metadata": {},
     "output_type": "display_data"
    },
    {
     "data": {
      "text/markdown": [
       "<span style=\"color:#33cc99\">Solution:</span> The scatter plot does not show a strong correlation between the two variables. Since there is no clear relationship between the two variables, this tells us that sugar content does not play a strong role in candy popularity."
      ],
      "text/plain": [
       "Solution: The scatter plot does not show a strong correlation between the two variables. Since there is no clear relationship between the two variables, this tells us that sugar content does not play a strong role in candy popularity."
      ]
     },
     "metadata": {},
     "output_type": "display_data"
    }
   ],
   "source": [
    "# Check your answer (Run this code cell to receive credit!)\n",
    "step_3.b.solution()"
   ]
  },
  {
   "cell_type": "markdown",
   "id": "989bd872",
   "metadata": {
    "papermill": {
     "duration": 0.00774,
     "end_time": "2022-07-12T16:09:12.201326",
     "exception": false,
     "start_time": "2022-07-12T16:09:12.193586",
     "status": "completed"
    },
    "tags": []
   },
   "source": [
    "## Step 4: Take a closer look\n",
    "\n",
    "#### Part A\n",
    "\n",
    "Create the same scatter plot you created in **Step 3**, but now with a regression line!"
   ]
  },
  {
   "cell_type": "code",
   "execution_count": 12,
   "id": "0ce772d0",
   "metadata": {
    "execution": {
     "iopub.execute_input": "2022-07-12T16:09:12.219537Z",
     "iopub.status.busy": "2022-07-12T16:09:12.218802Z",
     "iopub.status.idle": "2022-07-12T16:09:12.492095Z",
     "shell.execute_reply": "2022-07-12T16:09:12.491134Z"
    },
    "papermill": {
     "duration": 0.28498,
     "end_time": "2022-07-12T16:09:12.494413",
     "exception": false,
     "start_time": "2022-07-12T16:09:12.209433",
     "status": "completed"
    },
    "tags": []
   },
   "outputs": [
    {
     "data": {
      "application/javascript": [
       "parent.postMessage({\"jupyterEvent\": \"custom.exercise_interaction\", \"data\": {\"outcomeType\": 1, \"valueTowardsCompletion\": 0.3333333333333333, \"interactionType\": 1, \"questionType\": 2, \"questionId\": \"4.1_PlotBlueReg\", \"learnToolsVersion\": \"0.3.4\", \"failureMessage\": \"\", \"exceptionClass\": \"\", \"trace\": \"\"}}, \"*\")"
      ],
      "text/plain": [
       "<IPython.core.display.Javascript object>"
      ]
     },
     "metadata": {},
     "output_type": "display_data"
    },
    {
     "data": {
      "text/markdown": [
       "<span style=\"color:#33cc33\">Correct</span>"
      ],
      "text/plain": [
       "Correct"
      ]
     },
     "metadata": {},
     "output_type": "display_data"
    },
    {
     "data": {
      "image/png": "[encoded data removed]",
      "text/plain": [
       "<Figure size 432x288 with 1 Axes>"
      ]
     },
     "metadata": {
      "needs_background": "light"
     },
     "output_type": "display_data"
    }
   ],
   "source": [
    "# Scatter plot w/ regression line showing the relationship between 'sugarpercent' and 'winpercent'\n",
    "sns.regplot(x=candy_data['sugarpercent'], y=candy_data['winpercent']) # Your code here\n",
    "\n",
    "# Check your answer\n",
    "step_4.a.check()"
   ]
  },
  {
   "cell_type": "code",
   "execution_count": 13,
   "id": "1fd5b761",
   "metadata": {
    "execution": {
     "iopub.execute_input": "2022-07-12T16:09:12.513908Z",
     "iopub.status.busy": "2022-07-12T16:09:12.512993Z",
     "iopub.status.idle": "2022-07-12T16:09:12.517653Z",
     "shell.execute_reply": "2022-07-12T16:09:12.516677Z"
    },
    "papermill": {
     "duration": 0.016594,
     "end_time": "2022-07-12T16:09:12.519757",
     "exception": false,
     "start_time": "2022-07-12T16:09:12.503163",
     "status": "completed"
    },
    "tags": []
   },
   "outputs": [],
   "source": [
    "# Lines below will give you a hint or solution code\n",
    "#step_4.a.hint()\n",
    "#step_4.a.solution_plot()"
   ]
  },
  {
   "cell_type": "markdown",
   "id": "b8a0eb8d",
   "metadata": {
    "papermill": {
     "duration": 0.008156,
     "end_time": "2022-07-12T16:09:12.536542",
     "exception": false,
     "start_time": "2022-07-12T16:09:12.528386",
     "status": "completed"
    },
    "tags": []
   },
   "source": [
    "#### Part B\n",
    "\n",
    "According to the plot above, is there a **slight** correlation between `'winpercent'` and `'sugarpercent'`?  What does this tell you about the candy that people tend to prefer?"
   ]
  },
  {
   "cell_type": "code",
   "execution_count": 14,
   "id": "ab2c98a6",
   "metadata": {
    "execution": {
     "iopub.execute_input": "2022-07-12T16:09:12.555417Z",
     "iopub.status.busy": "2022-07-12T16:09:12.554621Z",
     "iopub.status.idle": "2022-07-12T16:09:12.559390Z",
     "shell.execute_reply": "2022-07-12T16:09:12.558393Z"
    },
    "papermill": {
     "duration": 0.016265,
     "end_time": "2022-07-12T16:09:12.561362",
     "exception": false,
     "start_time": "2022-07-12T16:09:12.545097",
     "status": "completed"
    },
    "tags": []
   },
   "outputs": [],
   "source": [
    "#step_4.b.hint()"
   ]
  },
  {
   "cell_type": "code",
   "execution_count": 15,
   "id": "fd45094d",
   "metadata": {
    "execution": {
     "iopub.execute_input": "2022-07-12T16:09:12.580754Z",
     "iopub.status.busy": "2022-07-12T16:09:12.580393Z",
     "iopub.status.idle": "2022-07-12T16:09:12.588402Z",
     "shell.execute_reply": "2022-07-12T16:09:12.587296Z"
    },
    "papermill": {
     "duration": 0.020501,
     "end_time": "2022-07-12T16:09:12.590719",
     "exception": false,
     "start_time": "2022-07-12T16:09:12.570218",
     "status": "completed"
    },
    "tags": []
   },
   "outputs": [
    {
     "data": {
      "application/javascript": [
       "parent.postMessage({\"jupyterEvent\": \"custom.exercise_interaction\", \"data\": {\"interactionType\": 3, \"questionType\": 4, \"questionId\": \"4.2_ThinkBlueReg\", \"learnToolsVersion\": \"0.3.4\", \"valueTowardsCompletion\": 0.0, \"failureMessage\": \"\", \"exceptionClass\": \"\", \"trace\": \"\", \"outcomeType\": 4}}, \"*\")"
      ],
      "text/plain": [
       "<IPython.core.display.Javascript object>"
      ]
     },
     "metadata": {},
     "output_type": "display_data"
    },
    {
     "data": {
      "text/markdown": [
       "<span style=\"color:#33cc99\">Solution:</span> Since the regression line has a slightly positive slope, this tells us that there is a slightly positive correlation between `'winpercent'` and `'sugarpercent'`. Thus, people have a slight preference for candies containing relatively more sugar."
      ],
      "text/plain": [
       "Solution: Since the regression line has a slightly positive slope, this tells us that there is a slightly positive correlation between `'winpercent'` and `'sugarpercent'`. Thus, people have a slight preference for candies containing relatively more sugar."
      ]
     },
     "metadata": {},
     "output_type": "display_data"
    }
   ],
   "source": [
    "# Check your answer (Run this code cell to receive credit!)\n",
    "step_4.b.solution()"
   ]
  },
  {
   "cell_type": "markdown",
   "id": "73602b4a",
   "metadata": {
    "papermill": {
     "duration": 0.008453,
     "end_time": "2022-07-12T16:09:12.608150",
     "exception": false,
     "start_time": "2022-07-12T16:09:12.599697",
     "status": "completed"
    },
    "tags": []
   },
   "source": [
    "## Step 5: Chocolate!\n",
    "\n",
    "In the code cell below, create a scatter plot to show the relationship between `'pricepercent'` (on the horizontal x-axis) and `'winpercent'` (on the vertical y-axis). Use the `'chocolate'` column to color-code the points.  _Don't add any regression lines just yet -- you'll do that in the next step!_"
   ]
  },
  {
   "cell_type": "code",
   "execution_count": 16,
   "id": "ffb06d08",
   "metadata": {
    "execution": {
     "iopub.execute_input": "2022-07-12T16:09:12.627217Z",
     "iopub.status.busy": "2022-07-12T16:09:12.626811Z",
     "iopub.status.idle": "2022-07-12T16:09:12.819331Z",
     "shell.execute_reply": "2022-07-12T16:09:12.818511Z"
    },
    "papermill": {
     "duration": 0.204628,
     "end_time": "2022-07-12T16:09:12.821518",
     "exception": false,
     "start_time": "2022-07-12T16:09:12.616890",
     "status": "completed"
    },
    "tags": []
   },
   "outputs": [
    {
     "data": {
      "application/javascript": [
       "parent.postMessage({\"jupyterEvent\": \"custom.exercise_interaction\", \"data\": {\"outcomeType\": 1, \"valueTowardsCompletion\": 0.3333333333333333, \"interactionType\": 1, \"questionType\": 2, \"questionId\": \"5_ColorScatter\", \"learnToolsVersion\": \"0.3.4\", \"failureMessage\": \"\", \"exceptionClass\": \"\", \"trace\": \"\"}}, \"*\")"
      ],
      "text/plain": [
       "<IPython.core.display.Javascript object>"
      ]
     },
     "metadata": {},
     "output_type": "display_data"
    },
    {
     "data": {
      "text/markdown": [
       "<span style=\"color:#33cc33\">Correct</span>"
      ],
      "text/plain": [
       "Correct"
      ]
     },
     "metadata": {},
     "output_type": "display_data"
    },
    {
     "data": {
      "image/png": "[encoded data removed]",
      "text/plain": [
       "<Figure size 432x288 with 1 Axes>"
      ]
     },
     "metadata": {
      "needs_background": "light"
     },
     "output_type": "display_data"
    }
   ],
   "source": [
    "# Scatter plot showing the relationship between 'pricepercent', 'winpercent', and 'chocolate'\n",
    "sns.scatterplot(x=candy_data['pricepercent'], y=candy_data['winpercent'])# Your code here\n",
    "\n",
    "# Check your answer\n",
    "step_5.check()"
   ]
  },
  {
   "cell_type": "code",
   "execution_count": 17,
   "id": "9766f40b",
   "metadata": {
    "execution": {
     "iopub.execute_input": "2022-07-12T16:09:12.842271Z",
     "iopub.status.busy": "2022-07-12T16:09:12.841861Z",
     "iopub.status.idle": "2022-07-12T16:09:12.846482Z",
     "shell.execute_reply": "2022-07-12T16:09:12.845297Z"
    },
    "papermill": {
     "duration": 0.017558,
     "end_time": "2022-07-12T16:09:12.848502",
     "exception": false,
     "start_time": "2022-07-12T16:09:12.830944",
     "status": "completed"
    },
    "tags": []
   },
   "outputs": [],
   "source": [
    "# Lines below will give you a hint or solution code\n",
    "#step_5.hint()\n",
    "#step_5.solution_plot()"
   ]
  },
  {
   "cell_type": "markdown",
   "id": "15d139db",
   "metadata": {
    "papermill": {
     "duration": 0.009005,
     "end_time": "2022-07-12T16:09:12.866883",
     "exception": false,
     "start_time": "2022-07-12T16:09:12.857878",
     "status": "completed"
    },
    "tags": []
   },
   "source": [
    "Can you see any interesting patterns in the scatter plot?  We'll investigate this plot further  by adding regression lines in the next step!\n",
    "\n",
    "## Step 6: Investigate chocolate\n",
    "\n",
    "#### Part A\n",
    "\n",
    "Create the same scatter plot you created in **Step 5**, but now with two regression lines, corresponding to (1) chocolate candies and (2) candies without chocolate."
   ]
  },
  {
   "cell_type": "code",
   "execution_count": 18,
   "id": "137b86fe",
   "metadata": {
    "execution": {
     "iopub.execute_input": "2022-07-12T16:09:12.887793Z",
     "iopub.status.busy": "2022-07-12T16:09:12.886789Z",
     "iopub.status.idle": "2022-07-12T16:09:13.128349Z",
     "shell.execute_reply": "2022-07-12T16:09:13.127560Z"
    },
    "papermill": {
     "duration": 0.25411,
     "end_time": "2022-07-12T16:09:13.130302",
     "exception": false,
     "start_time": "2022-07-12T16:09:12.876192",
     "status": "completed"
    },
    "tags": []
   },
   "outputs": [
    {
     "data": {
      "application/javascript": [
       "parent.postMessage({\"jupyterEvent\": \"custom.exercise_interaction\", \"data\": {\"outcomeType\": 1, \"valueTowardsCompletion\": 0.3333333333333333, \"interactionType\": 1, \"questionType\": 2, \"questionId\": \"6.1_PlotColorReg\", \"learnToolsVersion\": \"0.3.4\", \"failureMessage\": \"\", \"exceptionClass\": \"\", \"trace\": \"\"}}, \"*\")"
      ],
      "text/plain": [
       "<IPython.core.display.Javascript object>"
      ]
     },
     "metadata": {},
     "output_type": "display_data"
    },
    {
     "data": {
      "text/markdown": [
       "<span style=\"color:#33cc33\">Correct</span>"
      ],
      "text/plain": [
       "Correct"
      ]
     },
     "metadata": {},
     "output_type": "display_data"
    },
    {
     "data": {
      "image/png": "[encoded data removed]",
      "text/plain": [
       "<Figure size 432x288 with 1 Axes>"
      ]
     },
     "metadata": {
      "needs_background": "light"
     },
     "output_type": "display_data"
    }
   ],
   "source": [
    "# Color-coded scatter plot w/ regression lines\n",
    "sns.scatterplot(x=candy_data['pricepercent'], y=candy_data['winpercent'],hue=candy_data['chocolate'])# Your code here\n",
    "\n",
    "# Check your answer\n",
    "step_6.a.check()"
   ]
  },
  {
   "cell_type": "code",
   "execution_count": 19,
   "id": "7bbf01d4",
   "metadata": {
    "execution": {
     "iopub.execute_input": "2022-07-12T16:09:13.152957Z",
     "iopub.status.busy": "2022-07-12T16:09:13.151899Z",
     "iopub.status.idle": "2022-07-12T16:09:13.155827Z",
     "shell.execute_reply": "2022-07-12T16:09:13.155141Z"
    },
    "papermill": {
     "duration": 0.017084,
     "end_time": "2022-07-12T16:09:13.157575",
     "exception": false,
     "start_time": "2022-07-12T16:09:13.140491",
     "status": "completed"
    },
    "tags": []
   },
   "outputs": [],
   "source": [
    "# Lines below will give you a hint or solution code\n",
    "#step_6.a.hint()\n",
    "#step_6.a.solution_plot()"
   ]
  },
  {
   "cell_type": "markdown",
   "id": "e7a14149",
   "metadata": {
    "papermill": {
     "duration": 0.010018,
     "end_time": "2022-07-12T16:09:13.177735",
     "exception": false,
     "start_time": "2022-07-12T16:09:13.167717",
     "status": "completed"
    },
    "tags": []
   },
   "source": [
    "#### Part B\n",
    "\n",
    "Using the regression lines, what conclusions can you draw about the effects of chocolate and price on candy popularity?"
   ]
  },
  {
   "cell_type": "code",
   "execution_count": 20,
   "id": "8d844749",
   "metadata": {
    "execution": {
     "iopub.execute_input": "2022-07-12T16:09:13.200300Z",
     "iopub.status.busy": "2022-07-12T16:09:13.199615Z",
     "iopub.status.idle": "2022-07-12T16:09:13.204889Z",
     "shell.execute_reply": "2022-07-12T16:09:13.204121Z"
    },
    "papermill": {
     "duration": 0.018899,
     "end_time": "2022-07-12T16:09:13.206975",
     "exception": false,
     "start_time": "2022-07-12T16:09:13.188076",
     "status": "completed"
    },
    "tags": []
   },
   "outputs": [],
   "source": [
    "\n",
    "#step_6.b.hint()"
   ]
  },
  {
   "cell_type": "code",
   "execution_count": 21,
   "id": "11056504",
   "metadata": {
    "execution": {
     "iopub.execute_input": "2022-07-12T16:09:13.228906Z",
     "iopub.status.busy": "2022-07-12T16:09:13.228197Z",
     "iopub.status.idle": "2022-07-12T16:09:13.236705Z",
     "shell.execute_reply": "2022-07-12T16:09:13.235963Z"
    },
    "papermill": {
     "duration": 0.021808,
     "end_time": "2022-07-12T16:09:13.238731",
     "exception": false,
     "start_time": "2022-07-12T16:09:13.216923",
     "status": "completed"
    },
    "tags": []
   },
   "outputs": [
    {
     "data": {
      "application/javascript": [
       "parent.postMessage({\"jupyterEvent\": \"custom.exercise_interaction\", \"data\": {\"interactionType\": 3, \"questionType\": 4, \"questionId\": \"6.2_ThinkColorReg\", \"learnToolsVersion\": \"0.3.4\", \"valueTowardsCompletion\": 0.0, \"failureMessage\": \"\", \"exceptionClass\": \"\", \"trace\": \"\", \"outcomeType\": 4}}, \"*\")"
      ],
      "text/plain": [
       "<IPython.core.display.Javascript object>"
      ]
     },
     "metadata": {},
     "output_type": "display_data"
    },
    {
     "data": {
      "text/markdown": [
       "<span style=\"color:#33cc99\">Solution:</span> We'll begin with the regression line for chocolate candies. Since this line has a slightly positive slope, we can say that more expensive chocolate candies tend to be more popular (than relatively cheaper chocolate candies).  Likewise, since the regression line for candies without chocolate has a negative slope, we can say that if candies don't contain chocolate, they tend to be more popular when they are cheaper.  One important note, however, is that the dataset is quite small -- so we shouldn't invest too much trust in these patterns!  To inspire more confidence in the results, we should add more candies to the dataset."
      ],
      "text/plain": [
       "Solution: We'll begin with the regression line for chocolate candies. Since this line has a slightly positive slope, we can say that more expensive chocolate candies tend to be more popular (than relatively cheaper chocolate candies).  Likewise, since the regression line for candies without chocolate has a negative slope, we can say that if candies don't contain chocolate, they tend to be more popular when they are cheaper.  One important note, however, is that the dataset is quite small -- so we shouldn't invest too much trust in these patterns!  To inspire more confidence in the results, we should add more candies to the dataset."
      ]
     },
     "metadata": {},
     "output_type": "display_data"
    }
   ],
   "source": [
    "# Check your answer (Run this code cell to receive credit!)\n",
    "step_6.b.solution()"
   ]
  },
  {
   "cell_type": "markdown",
   "id": "7bad95c1",
   "metadata": {
    "papermill": {
     "duration": 0.010236,
     "end_time": "2022-07-12T16:09:13.259194",
     "exception": false,
     "start_time": "2022-07-12T16:09:13.248958",
     "status": "completed"
    },
    "tags": []
   },
   "source": [
    "## Step 7: Everybody loves chocolate.\n",
    "\n",
    "#### Part A\n",
    "\n",
    "Create a categorical scatter plot to highlight the relationship between `'chocolate'` and `'winpercent'`.  Put `'chocolate'` on the (horizontal) x-axis, and `'winpercent'` on the (vertical) y-axis."
   ]
  },
  {
   "cell_type": "code",
   "execution_count": 22,
   "id": "3130b161",
   "metadata": {
    "execution": {
     "iopub.execute_input": "2022-07-12T16:09:13.282119Z",
     "iopub.status.busy": "2022-07-12T16:09:13.281489Z",
     "iopub.status.idle": "2022-07-12T16:09:13.415295Z",
     "shell.execute_reply": "2022-07-12T16:09:13.414375Z"
    },
    "papermill": {
     "duration": 0.147807,
     "end_time": "2022-07-12T16:09:13.417416",
     "exception": false,
     "start_time": "2022-07-12T16:09:13.269609",
     "status": "completed"
    },
    "tags": []
   },
   "outputs": [
    {
     "data": {
      "application/javascript": [
       "parent.postMessage({\"jupyterEvent\": \"custom.exercise_interaction\", \"data\": {\"outcomeType\": 1, \"valueTowardsCompletion\": 0.3333333333333333, \"interactionType\": 1, \"questionType\": 2, \"questionId\": \"7.1_PlotSwarm\", \"learnToolsVersion\": \"0.3.4\", \"failureMessage\": \"\", \"exceptionClass\": \"\", \"trace\": \"\"}}, \"*\")"
      ],
      "text/plain": [
       "<IPython.core.display.Javascript object>"
      ]
     },
     "metadata": {},
     "output_type": "display_data"
    },
    {
     "data": {
      "text/markdown": [
       "<span style=\"color:#33cc33\">Correct</span>"
      ],
      "text/plain": [
       "Correct"
      ]
     },
     "metadata": {},
     "output_type": "display_data"
    },
    {
     "data": {
      "image/png": "[encoded data removed]",
      "text/plain": [
       "<Figure size 432x288 with 1 Axes>"
      ]
     },
     "metadata": {
      "needs_background": "light"
     },
     "output_type": "display_data"
    }
   ],
   "source": [
    "# Scatter plot showing the relationship between 'chocolate' and 'winpercent'\n",
    "sns.swarmplot(x=candy_data['chocolate'], y=candy_data['winpercent'])# Your code here\n",
    "# Your code here\n",
    "\n",
    "# Check your answer\n",
    "step_7.a.check()"
   ]
  },
  {
   "cell_type": "code",
   "execution_count": 23,
   "id": "26ceab74",
   "metadata": {
    "execution": {
     "iopub.execute_input": "2022-07-12T16:09:13.442554Z",
     "iopub.status.busy": "2022-07-12T16:09:13.441857Z",
     "iopub.status.idle": "2022-07-12T16:09:13.447520Z",
     "shell.execute_reply": "2022-07-12T16:09:13.446481Z"
    },
    "papermill": {
     "duration": 0.021348,
     "end_time": "2022-07-12T16:09:13.450021",
     "exception": false,
     "start_time": "2022-07-12T16:09:13.428673",
     "status": "completed"
    },
    "tags": []
   },
   "outputs": [],
   "source": [
    "# Lines below will give you a hint or solution code\n",
    "#step_7.a.hint()\n",
    "#step_7.a.solution_plot()"
   ]
  },
  {
   "cell_type": "markdown",
   "id": "7611da96",
   "metadata": {
    "papermill": {
     "duration": 0.010693,
     "end_time": "2022-07-12T16:09:13.472114",
     "exception": false,
     "start_time": "2022-07-12T16:09:13.461421",
     "status": "completed"
    },
    "tags": []
   },
   "source": [
    "#### Part B\n",
    "\n",
    "You decide to dedicate a section of your report to the fact that chocolate candies tend to be more popular than candies without chocolate.  Which plot is more appropriate to tell this story: the plot from **Step 6**, or the plot from **Step 7**?"
   ]
  },
  {
   "cell_type": "code",
   "execution_count": 24,
   "id": "3a789512",
   "metadata": {
    "execution": {
     "iopub.execute_input": "2022-07-12T16:09:13.495969Z",
     "iopub.status.busy": "2022-07-12T16:09:13.495321Z",
     "iopub.status.idle": "2022-07-12T16:09:13.499119Z",
     "shell.execute_reply": "2022-07-12T16:09:13.498322Z"
    },
    "papermill": {
     "duration": 0.018178,
     "end_time": "2022-07-12T16:09:13.501092",
     "exception": false,
     "start_time": "2022-07-12T16:09:13.482914",
     "status": "completed"
    },
    "tags": []
   },
   "outputs": [],
   "source": [
    "#step_7.b.hint()"
   ]
  },
  {
   "cell_type": "code",
   "execution_count": 25,
   "id": "5e9e9b79",
   "metadata": {
    "execution": {
     "iopub.execute_input": "2022-07-12T16:09:13.525108Z",
     "iopub.status.busy": "2022-07-12T16:09:13.524430Z",
     "iopub.status.idle": "2022-07-12T16:09:13.531063Z",
     "shell.execute_reply": "2022-07-12T16:09:13.530249Z"
    },
    "papermill": {
     "duration": 0.020789,
     "end_time": "2022-07-12T16:09:13.532831",
     "exception": false,
     "start_time": "2022-07-12T16:09:13.512042",
     "status": "completed"
    },
    "tags": []
   },
   "outputs": [
    {
     "data": {
      "application/javascript": [
       "parent.postMessage({\"jupyterEvent\": \"custom.exercise_interaction\", \"data\": {\"interactionType\": 3, \"questionType\": 4, \"questionId\": \"7.2_ThinkSwarm\", \"learnToolsVersion\": \"0.3.4\", \"valueTowardsCompletion\": 0.0, \"failureMessage\": \"\", \"exceptionClass\": \"\", \"trace\": \"\", \"outcomeType\": 4}}, \"*\")"
      ],
      "text/plain": [
       "<IPython.core.display.Javascript object>"
      ]
     },
     "metadata": {},
     "output_type": "display_data"
    },
    {
     "data": {
      "text/markdown": [
       "<span style=\"color:#33cc99\">Solution:</span> In this case, the categorical scatter plot from **Step 7** is the more appropriate plot. While both plots tell the desired story, the plot from **Step 6** conveys far more information that could distract from the main point."
      ],
      "text/plain": [
       "Solution: In this case, the categorical scatter plot from **Step 7** is the more appropriate plot. While both plots tell the desired story, the plot from **Step 6** conveys far more information that could distract from the main point."
      ]
     },
     "metadata": {},
     "output_type": "display_data"
    }
   ],
   "source": [
    "# Check your answer (Run this code cell to receive credit!)\n",
    "step_7.b.solution()"
   ]
  },
  {
   "cell_type": "markdown",
   "id": "2e924ae9",
   "metadata": {
    "papermill": {
     "duration": 0.010431,
     "end_time": "2022-07-12T16:09:13.554195",
     "exception": false,
     "start_time": "2022-07-12T16:09:13.543764",
     "status": "completed"
    },
    "tags": []
   },
   "source": [
    "## Keep going\n",
    "\n",
    "Explore **[histograms and density plots](https://www.kaggle.com/alexisbcook/distributions)**."
   ]
  },
  {
   "cell_type": "markdown",
   "id": "e3b14220",
   "metadata": {
    "papermill": {
     "duration": 0.010445,
     "end_time": "2022-07-12T16:09:13.575296",
     "exception": false,
     "start_time": "2022-07-12T16:09:13.564851",
     "status": "completed"
    },
    "tags": []
   },
   "source": [
    "---\n",
    "\n",
    "\n",
    "\n",
    "\n",
    "*Have questions or comments? Visit the [course discussion forum](https://www.kaggle.com/learn/data-visualization/discussion) to chat with other learners.*"
   ]
  }
 ],
 "metadata": {
  "kernelspec": {
   "display_name": "Python 3",
   "language": "python",
   "name": "python3"
  },
  "language_info": {
   "codemirror_mode": {
    "name": "ipython",
    "version": 3
   },
   "file_extension": ".py",
   "mimetype": "text/x-python",
   "name": "python",
   "nbconvert_exporter": "python",
   "pygments_lexer": "ipython3",
   "version": "3.7.12"
  },
  "papermill": {
   "default_parameters": {},
   "duration": 12.91166,
   "end_time": "2022-07-12T16:09:14.306612",
   "environment_variables": {},
   "exception": null,
   "input_path": "__notebook__.ipynb",
   "output_path": "__notebook__.ipynb",
   "parameters": {},
   "start_time": "2022-07-12T16:09:01.394952",
   "version": "2.3.4"
  }
 },
 "nbformat": 4,
 "nbformat_minor": 5
}
